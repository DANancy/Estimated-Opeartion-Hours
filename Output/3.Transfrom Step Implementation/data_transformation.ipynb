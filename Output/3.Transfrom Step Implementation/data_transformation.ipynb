{
 "cells": [
  {
   "cell_type": "markdown",
   "metadata": {},
   "source": [
    "## Load Libs"
   ]
  },
  {
   "cell_type": "code",
   "execution_count": 825,
   "metadata": {},
   "outputs": [
    {
     "data": {
      "text/plain": [
       "<module 'data_transform_helper' from 'C:\\\\Users\\\\a30006212\\\\Downloads\\\\AGL Study\\\\Study\\\\Shell Energy Data Engineering Test\\\\Output\\\\3.Transfrom Step Implementation\\\\data_transform_helper.py'>"
      ]
     },
     "execution_count": 825,
     "metadata": {},
     "output_type": "execute_result"
    }
   ],
   "source": [
    "import pandas as pd\n",
    "import os\n",
    "import sys\n",
    "import csv\n",
    "import data_validation_helper as dvh\n",
    "import data_transform_helper as dth\n",
    "import database_helper as dh\n",
    "import importlib\n",
    "importlib.reload(dvh)\n",
    "importlib.reload(dfh)"
   ]
  },
  {
   "cell_type": "markdown",
   "metadata": {},
   "source": [
    "## Data Transform"
   ]
  },
  {
   "cell_type": "code",
   "execution_count": 826,
   "metadata": {},
   "outputs": [],
   "source": [
    "nmi_path = '..\\\\1.Input Data Inspection\\\\Data\\\\nmi_info.csv'\n",
    "consumption_folder = '..\\\\1.Input Data Inspection\\\\Data\\\\ConsumptionData'"
   ]
  },
  {
   "cell_type": "code",
   "execution_count": 827,
   "metadata": {},
   "outputs": [
    {
     "data": {
      "text/html": [
       "<div>\n",
       "<style scoped>\n",
       "    .dataframe tbody tr th:only-of-type {\n",
       "        vertical-align: middle;\n",
       "    }\n",
       "\n",
       "    .dataframe tbody tr th {\n",
       "        vertical-align: top;\n",
       "    }\n",
       "\n",
       "    .dataframe thead th {\n",
       "        text-align: right;\n",
       "    }\n",
       "</style>\n",
       "<table border=\"1\" class=\"dataframe\">\n",
       "  <thead>\n",
       "    <tr style=\"text-align: right;\">\n",
       "      <th></th>\n",
       "      <th>NMI</th>\n",
       "      <th>STATE</th>\n",
       "      <th>INTERVAL</th>\n",
       "    </tr>\n",
       "  </thead>\n",
       "  <tbody>\n",
       "    <tr>\n",
       "      <th>0</th>\n",
       "      <td>NMIM1</td>\n",
       "      <td>QLD</td>\n",
       "      <td>30</td>\n",
       "    </tr>\n",
       "    <tr>\n",
       "      <th>1</th>\n",
       "      <td>NMIS2</td>\n",
       "      <td>NSW</td>\n",
       "      <td>30</td>\n",
       "    </tr>\n",
       "    <tr>\n",
       "      <th>2</th>\n",
       "      <td>NMIS3</td>\n",
       "      <td>NSW</td>\n",
       "      <td>30</td>\n",
       "    </tr>\n",
       "    <tr>\n",
       "      <th>3</th>\n",
       "      <td>NMIA2</td>\n",
       "      <td>VIC</td>\n",
       "      <td>15</td>\n",
       "    </tr>\n",
       "    <tr>\n",
       "      <th>4</th>\n",
       "      <td>NMIA1</td>\n",
       "      <td>VIC</td>\n",
       "      <td>15</td>\n",
       "    </tr>\n",
       "  </tbody>\n",
       "</table>\n",
       "</div>"
      ],
      "text/plain": [
       "     NMI STATE  INTERVAL\n",
       "0  NMIM1   QLD        30\n",
       "1  NMIS2   NSW        30\n",
       "2  NMIS3   NSW        30\n",
       "3  NMIA2   VIC        15\n",
       "4  NMIA1   VIC        15"
      ]
     },
     "execution_count": 827,
     "metadata": {},
     "output_type": "execute_result"
    }
   ],
   "source": [
    "output_path='Transformed\\\\'\n",
    "nmi_df = dth.transform_nmi_master(nmi_path, output_path)\n",
    "nmi_df.head()"
   ]
  },
  {
   "cell_type": "code",
   "execution_count": 828,
   "metadata": {},
   "outputs": [
    {
     "data": {
      "text/html": [
       "<div>\n",
       "<style scoped>\n",
       "    .dataframe tbody tr th:only-of-type {\n",
       "        vertical-align: middle;\n",
       "    }\n",
       "\n",
       "    .dataframe tbody tr th {\n",
       "        vertical-align: top;\n",
       "    }\n",
       "\n",
       "    .dataframe thead th {\n",
       "        text-align: right;\n",
       "    }\n",
       "</style>\n",
       "<table border=\"1\" class=\"dataframe\">\n",
       "  <thead>\n",
       "    <tr style=\"text-align: right;\">\n",
       "      <th></th>\n",
       "      <th>TRANSFORMED_AESTTIME</th>\n",
       "      <th>AESTTIME</th>\n",
       "      <th>QUANTITY</th>\n",
       "      <th>UNIT</th>\n",
       "      <th>STATE</th>\n",
       "      <th>DATE</th>\n",
       "      <th>YEAR</th>\n",
       "      <th>YEARDAY</th>\n",
       "      <th>MONTH</th>\n",
       "      <th>MONTHNAME</th>\n",
       "      <th>...</th>\n",
       "      <th>MINUTE</th>\n",
       "      <th>WEEKDAY</th>\n",
       "      <th>WEEKEND</th>\n",
       "      <th>TIME</th>\n",
       "      <th>MONTHDAY</th>\n",
       "      <th>HOURMINUTE</th>\n",
       "      <th>SESSION</th>\n",
       "      <th>SEASON</th>\n",
       "      <th>NMI</th>\n",
       "      <th>OUTLIER</th>\n",
       "    </tr>\n",
       "  </thead>\n",
       "  <tbody>\n",
       "    <tr>\n",
       "      <th>0</th>\n",
       "      <td>2017-10-01 00:00:00</td>\n",
       "      <td>2017-10-01 00:00:00</td>\n",
       "      <td>7.99</td>\n",
       "      <td>KWH</td>\n",
       "      <td>VIC</td>\n",
       "      <td>2017-10-01</td>\n",
       "      <td>2017</td>\n",
       "      <td>274</td>\n",
       "      <td>10</td>\n",
       "      <td>October</td>\n",
       "      <td>...</td>\n",
       "      <td>0</td>\n",
       "      <td>6</td>\n",
       "      <td>1</td>\n",
       "      <td>00:00:00</td>\n",
       "      <td>10-01</td>\n",
       "      <td>00:00</td>\n",
       "      <td>1</td>\n",
       "      <td>4</td>\n",
       "      <td>NMIA1</td>\n",
       "      <td>0</td>\n",
       "    </tr>\n",
       "    <tr>\n",
       "      <th>1</th>\n",
       "      <td>2017-10-01 00:15:00</td>\n",
       "      <td>2017-10-01 00:15:00</td>\n",
       "      <td>7.00</td>\n",
       "      <td>KWH</td>\n",
       "      <td>VIC</td>\n",
       "      <td>2017-10-01</td>\n",
       "      <td>2017</td>\n",
       "      <td>274</td>\n",
       "      <td>10</td>\n",
       "      <td>October</td>\n",
       "      <td>...</td>\n",
       "      <td>15</td>\n",
       "      <td>6</td>\n",
       "      <td>1</td>\n",
       "      <td>00:15:00</td>\n",
       "      <td>10-01</td>\n",
       "      <td>00:15</td>\n",
       "      <td>1</td>\n",
       "      <td>4</td>\n",
       "      <td>NMIA1</td>\n",
       "      <td>0</td>\n",
       "    </tr>\n",
       "    <tr>\n",
       "      <th>2</th>\n",
       "      <td>2017-10-01 00:30:00</td>\n",
       "      <td>2017-10-01 00:30:00</td>\n",
       "      <td>8.20</td>\n",
       "      <td>KWH</td>\n",
       "      <td>VIC</td>\n",
       "      <td>2017-10-01</td>\n",
       "      <td>2017</td>\n",
       "      <td>274</td>\n",
       "      <td>10</td>\n",
       "      <td>October</td>\n",
       "      <td>...</td>\n",
       "      <td>30</td>\n",
       "      <td>6</td>\n",
       "      <td>1</td>\n",
       "      <td>00:30:00</td>\n",
       "      <td>10-01</td>\n",
       "      <td>00:30</td>\n",
       "      <td>1</td>\n",
       "      <td>4</td>\n",
       "      <td>NMIA1</td>\n",
       "      <td>0</td>\n",
       "    </tr>\n",
       "    <tr>\n",
       "      <th>3</th>\n",
       "      <td>2017-10-01 00:45:00</td>\n",
       "      <td>2017-10-01 00:45:00</td>\n",
       "      <td>8.01</td>\n",
       "      <td>KWH</td>\n",
       "      <td>VIC</td>\n",
       "      <td>2017-10-01</td>\n",
       "      <td>2017</td>\n",
       "      <td>274</td>\n",
       "      <td>10</td>\n",
       "      <td>October</td>\n",
       "      <td>...</td>\n",
       "      <td>45</td>\n",
       "      <td>6</td>\n",
       "      <td>1</td>\n",
       "      <td>00:45:00</td>\n",
       "      <td>10-01</td>\n",
       "      <td>00:45</td>\n",
       "      <td>1</td>\n",
       "      <td>4</td>\n",
       "      <td>NMIA1</td>\n",
       "      <td>0</td>\n",
       "    </tr>\n",
       "    <tr>\n",
       "      <th>4</th>\n",
       "      <td>2017-10-01 01:00:00</td>\n",
       "      <td>2017-10-01 01:00:00</td>\n",
       "      <td>9.01</td>\n",
       "      <td>KWH</td>\n",
       "      <td>VIC</td>\n",
       "      <td>2017-10-01</td>\n",
       "      <td>2017</td>\n",
       "      <td>274</td>\n",
       "      <td>10</td>\n",
       "      <td>October</td>\n",
       "      <td>...</td>\n",
       "      <td>0</td>\n",
       "      <td>6</td>\n",
       "      <td>1</td>\n",
       "      <td>01:00:00</td>\n",
       "      <td>10-01</td>\n",
       "      <td>01:00</td>\n",
       "      <td>1</td>\n",
       "      <td>4</td>\n",
       "      <td>NMIA1</td>\n",
       "      <td>0</td>\n",
       "    </tr>\n",
       "  </tbody>\n",
       "</table>\n",
       "<p>5 rows × 24 columns</p>\n",
       "</div>"
      ],
      "text/plain": [
       "  TRANSFORMED_AESTTIME            AESTTIME  QUANTITY UNIT STATE        DATE  \\\n",
       "0  2017-10-01 00:00:00 2017-10-01 00:00:00      7.99  KWH   VIC  2017-10-01   \n",
       "1  2017-10-01 00:15:00 2017-10-01 00:15:00      7.00  KWH   VIC  2017-10-01   \n",
       "2  2017-10-01 00:30:00 2017-10-01 00:30:00      8.20  KWH   VIC  2017-10-01   \n",
       "3  2017-10-01 00:45:00 2017-10-01 00:45:00      8.01  KWH   VIC  2017-10-01   \n",
       "4  2017-10-01 01:00:00 2017-10-01 01:00:00      9.01  KWH   VIC  2017-10-01   \n",
       "\n",
       "   YEAR  YEARDAY  MONTH MONTHNAME  ...  MINUTE  WEEKDAY WEEKEND      TIME  \\\n",
       "0  2017      274     10   October  ...       0        6       1  00:00:00   \n",
       "1  2017      274     10   October  ...      15        6       1  00:15:00   \n",
       "2  2017      274     10   October  ...      30        6       1  00:30:00   \n",
       "3  2017      274     10   October  ...      45        6       1  00:45:00   \n",
       "4  2017      274     10   October  ...       0        6       1  01:00:00   \n",
       "\n",
       "   MONTHDAY  HOURMINUTE  SESSION SEASON    NMI OUTLIER  \n",
       "0     10-01       00:00        1      4  NMIA1       0  \n",
       "1     10-01       00:15        1      4  NMIA1       0  \n",
       "2     10-01       00:30        1      4  NMIA1       0  \n",
       "3     10-01       00:45        1      4  NMIA1       0  \n",
       "4     10-01       01:00        1      4  NMIA1       0  \n",
       "\n",
       "[5 rows x 24 columns]"
      ]
     },
     "execution_count": 828,
     "metadata": {},
     "output_type": "execute_result"
    }
   ],
   "source": [
    "consumption_df = dth.transform_consumption(consumption_folder)\n",
    "consumption_df.head()"
   ]
  },
  {
   "cell_type": "code",
   "execution_count": 829,
   "metadata": {},
   "outputs": [],
   "source": [
    "default_timezone = 'Australia/Brisbane'\n",
    "transform_dict = {'VIC': 'Australia/Victoria',\n",
    "                  'NSW': 'Australia/NSW',\n",
    "                  'SA': 'Australia/Adelaide',\n",
    "                   'WA': 'Australia/West',\n",
    "                  'TAS':'Australia/Tasmania',\n",
    "                   'QLD': 'Australia/Queensland',\n",
    "                   'ACT': 'Australia/ACT'}"
   ]
  },
  {
   "cell_type": "code",
   "execution_count": 847,
   "metadata": {},
   "outputs": [
    {
     "data": {
      "text/html": [
       "<div>\n",
       "<style scoped>\n",
       "    .dataframe tbody tr th:only-of-type {\n",
       "        vertical-align: middle;\n",
       "    }\n",
       "\n",
       "    .dataframe tbody tr th {\n",
       "        vertical-align: top;\n",
       "    }\n",
       "\n",
       "    .dataframe thead th {\n",
       "        text-align: right;\n",
       "    }\n",
       "</style>\n",
       "<table border=\"1\" class=\"dataframe\">\n",
       "  <thead>\n",
       "    <tr style=\"text-align: right;\">\n",
       "      <th></th>\n",
       "      <th>TRANSFORMED_AESTTIME</th>\n",
       "      <th>AESTTIME</th>\n",
       "    </tr>\n",
       "  </thead>\n",
       "  <tbody>\n",
       "    <tr>\n",
       "      <th>0</th>\n",
       "      <td>2017-10-01 00:00:00</td>\n",
       "      <td>2017-10-01 00:00:00</td>\n",
       "    </tr>\n",
       "    <tr>\n",
       "      <th>1</th>\n",
       "      <td>2017-10-01 00:30:00</td>\n",
       "      <td>2017-10-01 00:30:00</td>\n",
       "    </tr>\n",
       "    <tr>\n",
       "      <th>2</th>\n",
       "      <td>2017-10-01 01:00:00</td>\n",
       "      <td>2017-10-01 01:00:00</td>\n",
       "    </tr>\n",
       "    <tr>\n",
       "      <th>3</th>\n",
       "      <td>2017-10-01 01:30:00</td>\n",
       "      <td>2017-10-01 01:30:00</td>\n",
       "    </tr>\n",
       "    <tr>\n",
       "      <th>4</th>\n",
       "      <td>2017-10-01 03:00:00</td>\n",
       "      <td>2017-10-01 02:00:00</td>\n",
       "    </tr>\n",
       "    <tr>\n",
       "      <th>...</th>\n",
       "      <td>...</td>\n",
       "      <td>...</td>\n",
       "    </tr>\n",
       "    <tr>\n",
       "      <th>17515</th>\n",
       "      <td>2018-09-30 21:30:00</td>\n",
       "      <td>2018-09-30 21:30:00</td>\n",
       "    </tr>\n",
       "    <tr>\n",
       "      <th>17516</th>\n",
       "      <td>2018-09-30 22:00:00</td>\n",
       "      <td>2018-09-30 22:00:00</td>\n",
       "    </tr>\n",
       "    <tr>\n",
       "      <th>17517</th>\n",
       "      <td>2018-09-30 22:30:00</td>\n",
       "      <td>2018-09-30 22:30:00</td>\n",
       "    </tr>\n",
       "    <tr>\n",
       "      <th>17518</th>\n",
       "      <td>2018-09-30 23:00:00</td>\n",
       "      <td>2018-09-30 23:00:00</td>\n",
       "    </tr>\n",
       "    <tr>\n",
       "      <th>17519</th>\n",
       "      <td>2018-09-30 23:30:00</td>\n",
       "      <td>2018-09-30 23:30:00</td>\n",
       "    </tr>\n",
       "  </tbody>\n",
       "</table>\n",
       "<p>52560 rows × 2 columns</p>\n",
       "</div>"
      ],
      "text/plain": [
       "      TRANSFORMED_AESTTIME            AESTTIME\n",
       "0      2017-10-01 00:00:00 2017-10-01 00:00:00\n",
       "1      2017-10-01 00:30:00 2017-10-01 00:30:00\n",
       "2      2017-10-01 01:00:00 2017-10-01 01:00:00\n",
       "3      2017-10-01 01:30:00 2017-10-01 01:30:00\n",
       "4      2017-10-01 03:00:00 2017-10-01 02:00:00\n",
       "...                    ...                 ...\n",
       "17515  2018-09-30 21:30:00 2018-09-30 21:30:00\n",
       "17516  2018-09-30 22:00:00 2018-09-30 22:00:00\n",
       "17517  2018-09-30 22:30:00 2018-09-30 22:30:00\n",
       "17518  2018-09-30 23:00:00 2018-09-30 23:00:00\n",
       "17519  2018-09-30 23:30:00 2018-09-30 23:30:00\n",
       "\n",
       "[52560 rows x 2 columns]"
      ]
     },
     "execution_count": 847,
     "metadata": {},
     "output_type": "execute_result"
    }
   ],
   "source": [
    "subset_consumption_df = consumption_df[consumption_df['STATE'] == 'NSW'][['TRANSFORMED_AESTTIME', 'AESTTIME']]\n",
    "subset_consumption_df"
   ]
  },
  {
   "cell_type": "code",
   "execution_count": 852,
   "metadata": {},
   "outputs": [
    {
     "data": {
      "text/plain": [
       "True"
      ]
     },
     "execution_count": 852,
     "metadata": {},
     "output_type": "execute_result"
    }
   ],
   "source": [
    "subset_consumption_df = consumption_df[consumption_df['STATE'] == 'NSW'][['TRANSFORMED_AESTTIME', 'AESTTIME']]\n",
    "subset_consumption_df['ACTUAL'] = subset_consumption_df['AESTTIME'].dt.tz_localize(default_timezone).dt.tz_convert(transform_dict['NSW'])\n",
    "subset_consumption_df = subset_consumption_df.set_index(subset_consumption_df['ACTUAL'])\n",
    "subset_consumption_df['ACTUAL'] = subset_consumption_df.index.strftime('%Y-%m-%d %H:%M:%S')\n",
    "subset_consumption_df = subset_consumption_df.astype({'ACTUAL':'datetime64[ns]'}).set_index('ACTUAL')\n",
    "subset_consumption_df.reset_index(drop=False, inplace=True)\n",
    "result = subset_consumption_df['TRANSFORMED_AESTTIME'] == subset_consumption_df['ACTUAL']\n",
    "list(result.unique())[0]"
   ]
  },
  {
   "cell_type": "code",
   "execution_count": 843,
   "metadata": {},
   "outputs": [
    {
     "data": {
      "text/plain": [
       "True"
      ]
     },
     "execution_count": 843,
     "metadata": {},
     "output_type": "execute_result"
    }
   ],
   "source": [
    "nmi_df.dtypes.to_list() == ['O', 'O', 'int32']"
   ]
  },
  {
   "cell_type": "code",
   "execution_count": 749,
   "metadata": {},
   "outputs": [
    {
     "name": "stdout",
     "output_type": "stream",
     "text": [
      "<class 'pandas.core.frame.DataFrame'>\n",
      "Int64Index: 223672 entries, 0 to 17519\n",
      "Data columns (total 24 columns):\n",
      " #   Column                Non-Null Count   Dtype         \n",
      "---  ------                --------------   -----         \n",
      " 0   TRANSFORMED_AESTTIME  223672 non-null  datetime64[ns]\n",
      " 1   AESTTIME              223672 non-null  datetime64[ns]\n",
      " 2   QUANTITY              223672 non-null  float64       \n",
      " 3   UNIT                  223672 non-null  object        \n",
      " 4   STATE                 223672 non-null  object        \n",
      " 5   DATE                  223672 non-null  object        \n",
      " 6   YEAR                  223672 non-null  int64         \n",
      " 7   YEARDAY               223672 non-null  int64         \n",
      " 8   MONTH                 223672 non-null  int64         \n",
      " 9   MONTHNAME             223672 non-null  object        \n",
      " 10  WEEK                  223672 non-null  UInt32        \n",
      " 11  DAY                   223672 non-null  int64         \n",
      " 12  DAYNAME               223672 non-null  object        \n",
      " 13  HOUR                  223672 non-null  int64         \n",
      " 14  MINUTE                223672 non-null  int64         \n",
      " 15  WEEKDAY               223672 non-null  int64         \n",
      " 16  WEEKEND               223672 non-null  int64         \n",
      " 17  TIME                  223672 non-null  object        \n",
      " 18  MONTHDAY              223672 non-null  object        \n",
      " 19  HOURMINUTE            223672 non-null  object        \n",
      " 20  SESSION               223672 non-null  category      \n",
      " 21  SEASON                223672 non-null  int64         \n",
      " 22  NMI                   223672 non-null  object        \n",
      " 23  OUTLIER               223672 non-null  int32         \n",
      "dtypes: UInt32(1), category(1), datetime64[ns](2), float64(1), int32(1), int64(9), object(9)\n",
      "memory usage: 39.7+ MB\n"
     ]
    }
   ],
   "source": [
    "consumption_df.info()"
   ]
  },
  {
   "cell_type": "markdown",
   "metadata": {},
   "source": [
    "## Setup Database"
   ]
  },
  {
   "cell_type": "code",
   "execution_count": 736,
   "metadata": {},
   "outputs": [
    {
     "data": {
      "text/html": [
       "<div>\n",
       "<style scoped>\n",
       "    .dataframe tbody tr th:only-of-type {\n",
       "        vertical-align: middle;\n",
       "    }\n",
       "\n",
       "    .dataframe tbody tr th {\n",
       "        vertical-align: top;\n",
       "    }\n",
       "\n",
       "    .dataframe thead th {\n",
       "        text-align: right;\n",
       "    }\n",
       "</style>\n",
       "<table border=\"1\" class=\"dataframe\">\n",
       "  <thead>\n",
       "    <tr style=\"text-align: right;\">\n",
       "      <th></th>\n",
       "      <th>AESTTime</th>\n",
       "      <th>Quantity</th>\n",
       "      <th>Unit</th>\n",
       "    </tr>\n",
       "  </thead>\n",
       "  <tbody>\n",
       "    <tr>\n",
       "      <th>0</th>\n",
       "      <td>2017-10-01 00:00:00</td>\n",
       "      <td>7.99</td>\n",
       "      <td>kWh</td>\n",
       "    </tr>\n",
       "    <tr>\n",
       "      <th>1</th>\n",
       "      <td>2017-10-01 00:15:00</td>\n",
       "      <td>7.00</td>\n",
       "      <td>kWh</td>\n",
       "    </tr>\n",
       "    <tr>\n",
       "      <th>2</th>\n",
       "      <td>2017-10-01 00:30:00</td>\n",
       "      <td>8.20</td>\n",
       "      <td>kWh</td>\n",
       "    </tr>\n",
       "    <tr>\n",
       "      <th>3</th>\n",
       "      <td>2017-10-01 00:45:00</td>\n",
       "      <td>8.01</td>\n",
       "      <td>kWh</td>\n",
       "    </tr>\n",
       "    <tr>\n",
       "      <th>4</th>\n",
       "      <td>2017-10-01 01:00:00</td>\n",
       "      <td>9.01</td>\n",
       "      <td>kWh</td>\n",
       "    </tr>\n",
       "  </tbody>\n",
       "</table>\n",
       "</div>"
      ],
      "text/plain": [
       "              AESTTime  Quantity Unit\n",
       "0  2017-10-01 00:00:00      7.99  kWh\n",
       "1  2017-10-01 00:15:00      7.00  kWh\n",
       "2  2017-10-01 00:30:00      8.20  kWh\n",
       "3  2017-10-01 00:45:00      8.01  kWh\n",
       "4  2017-10-01 01:00:00      9.01  kWh"
      ]
     },
     "execution_count": 736,
     "metadata": {},
     "output_type": "execute_result"
    }
   ],
   "source": [
    "df = pd.read_csv('..\\\\1.Input Data Inspection\\\\Data\\\\ConsumptionData\\\\NMIA1.csv')\n",
    "df.head()"
   ]
  },
  {
   "cell_type": "markdown",
   "metadata": {},
   "source": [
    "This will use the helper functions defined in the database_helper module"
   ]
  },
  {
   "cell_type": "code",
   "execution_count": 750,
   "metadata": {},
   "outputs": [],
   "source": [
    "# if not exist create a db file\n",
    "if not os.path.exists('Transformed\\\\pythonsqlite.db'):\n",
    "    with open('Transformed\\\\pythonsqlite.db', 'w'): pass\n",
    "database = r'Transformed\\\\pythonsqlite.db'"
   ]
  },
  {
   "cell_type": "code",
   "execution_count": 752,
   "metadata": {},
   "outputs": [],
   "source": [
    "# create a database connection\n",
    "conn = dh.create_connection(database)\n",
    "\n",
    "nmi_df.to_sql(name='nmi', con=conn, if_exists='replace', index=False)\n",
    "consumption_df.to_sql(name='consumption', con=conn, if_exists='replace', index=False)"
   ]
  },
  {
   "cell_type": "markdown",
   "metadata": {},
   "source": [
    "### Table Check"
   ]
  },
  {
   "cell_type": "code",
   "execution_count": 751,
   "metadata": {},
   "outputs": [],
   "source": [
    "nmi_master = 'Transformed\\\\transformed_nmi_info.csv'\n",
    "consumption_data = 'Transformed\\\\ConsumptionData\\\\transformed_consumption_data_merged.csv'"
   ]
  },
  {
   "cell_type": "code",
   "execution_count": 753,
   "metadata": {},
   "outputs": [
    {
     "data": {
      "text/plain": [
       "12"
      ]
     },
     "execution_count": 753,
     "metadata": {},
     "output_type": "execute_result"
    }
   ],
   "source": [
    "# Check total nmi rows in raw data\n",
    "len(nmi_df)"
   ]
  },
  {
   "cell_type": "code",
   "execution_count": 754,
   "metadata": {},
   "outputs": [
    {
     "name": "stdout",
     "output_type": "stream",
     "text": [
      "12\n"
     ]
    }
   ],
   "source": [
    "conn = dh.create_connection(database)\n",
    "cur = conn.cursor()\n",
    "cur.execute(\"SELECT COUNT(*) FROM nmi\")\n",
    "row = cur.fetchall()\n",
    "print(row[0][0]) "
   ]
  },
  {
   "cell_type": "code",
   "execution_count": 755,
   "metadata": {},
   "outputs": [
    {
     "data": {
      "text/plain": [
       "223672"
      ]
     },
     "execution_count": 755,
     "metadata": {},
     "output_type": "execute_result"
    }
   ],
   "source": [
    "# Check total payment transaction rows in raw data\n",
    "len(consumption_df)"
   ]
  },
  {
   "cell_type": "code",
   "execution_count": 756,
   "metadata": {},
   "outputs": [
    {
     "name": "stdout",
     "output_type": "stream",
     "text": [
      "223672\n"
     ]
    }
   ],
   "source": [
    "conn = dh.create_connection(database)\n",
    "cur = conn.cursor()\n",
    "cur.execute(\"SELECT COUNT(*) FROM consumption\")\n",
    "row = cur.fetchall()\n",
    "print(row[0][0])"
   ]
  },
  {
   "cell_type": "markdown",
   "metadata": {},
   "source": [
    "## Generate Report"
   ]
  },
  {
   "cell_type": "code",
   "execution_count": 771,
   "metadata": {},
   "outputs": [],
   "source": [
    "sql_daily_hours_consumption = \"\"\"\n",
    "SELECT \n",
    "NMI, \n",
    "YEAR, \n",
    "MONTH, \n",
    "DAY,\n",
    "HOUR,\n",
    "STATE,\n",
    "CASE\n",
    "WHEN SESSION = 1 THEN 'Late Night'\n",
    "WHEN SESSION = 2 THEN 'Early Morning'\n",
    "WHEN SESSION = 3 THEN 'Morning'\n",
    "WHEN SESSION = 4 THEN 'Noon'\n",
    "WHEN SESSION = 5 THEN 'Eve'\n",
    "ELSE 'Night' END AS SESSION,\n",
    "\n",
    "CASE \n",
    "WHEN SEASON = 1 THEN 'Spring'\n",
    "WHEN SEASON = 2 THEN 'Summer'\n",
    "WHEN SEASON = 3 THEN 'Autumn'\n",
    "ELSE 'Winter' END AS SEASON,\n",
    "\n",
    "SUM(QUANTITY) AS TOTAL_CONSUMPTION, \n",
    "\n",
    "FROM consumption\n",
    "GROUP BY \n",
    "NMI,\n",
    "YEAR, \n",
    "MONTH, \n",
    "DAY,\n",
    "HOUR,\n",
    "STATE,\n",
    "SESSION,\n",
    "SEASON\n",
    "ORDER BY NMI\n",
    "\"\"\""
   ]
  },
  {
   "cell_type": "markdown",
   "metadata": {},
   "source": [
    "### Result Check"
   ]
  },
  {
   "cell_type": "code",
   "execution_count": 772,
   "metadata": {},
   "outputs": [
    {
     "data": {
      "text/html": [
       "<div>\n",
       "<style scoped>\n",
       "    .dataframe tbody tr th:only-of-type {\n",
       "        vertical-align: middle;\n",
       "    }\n",
       "\n",
       "    .dataframe tbody tr th {\n",
       "        vertical-align: top;\n",
       "    }\n",
       "\n",
       "    .dataframe thead th {\n",
       "        text-align: right;\n",
       "    }\n",
       "</style>\n",
       "<table border=\"1\" class=\"dataframe\">\n",
       "  <thead>\n",
       "    <tr style=\"text-align: right;\">\n",
       "      <th></th>\n",
       "      <th>NMI</th>\n",
       "      <th>YEAR</th>\n",
       "      <th>MONTH</th>\n",
       "      <th>DAY</th>\n",
       "      <th>HOUR</th>\n",
       "      <th>STATE</th>\n",
       "      <th>SESSION</th>\n",
       "      <th>SEASON</th>\n",
       "      <th>TOTAL_CONSUMPTION</th>\n",
       "    </tr>\n",
       "  </thead>\n",
       "  <tbody>\n",
       "    <tr>\n",
       "      <th>0</th>\n",
       "      <td>NMIA1</td>\n",
       "      <td>2017</td>\n",
       "      <td>10</td>\n",
       "      <td>1</td>\n",
       "      <td>0</td>\n",
       "      <td>VIC</td>\n",
       "      <td>Late Night</td>\n",
       "      <td>Winter</td>\n",
       "      <td>31.20</td>\n",
       "    </tr>\n",
       "    <tr>\n",
       "      <th>1</th>\n",
       "      <td>NMIA1</td>\n",
       "      <td>2017</td>\n",
       "      <td>10</td>\n",
       "      <td>1</td>\n",
       "      <td>1</td>\n",
       "      <td>VIC</td>\n",
       "      <td>Late Night</td>\n",
       "      <td>Winter</td>\n",
       "      <td>33.65</td>\n",
       "    </tr>\n",
       "    <tr>\n",
       "      <th>2</th>\n",
       "      <td>NMIA1</td>\n",
       "      <td>2017</td>\n",
       "      <td>10</td>\n",
       "      <td>1</td>\n",
       "      <td>3</td>\n",
       "      <td>VIC</td>\n",
       "      <td>Late Night</td>\n",
       "      <td>Winter</td>\n",
       "      <td>33.98</td>\n",
       "    </tr>\n",
       "    <tr>\n",
       "      <th>3</th>\n",
       "      <td>NMIA1</td>\n",
       "      <td>2017</td>\n",
       "      <td>10</td>\n",
       "      <td>1</td>\n",
       "      <td>4</td>\n",
       "      <td>VIC</td>\n",
       "      <td>Late Night</td>\n",
       "      <td>Winter</td>\n",
       "      <td>39.44</td>\n",
       "    </tr>\n",
       "    <tr>\n",
       "      <th>4</th>\n",
       "      <td>NMIA1</td>\n",
       "      <td>2017</td>\n",
       "      <td>10</td>\n",
       "      <td>1</td>\n",
       "      <td>5</td>\n",
       "      <td>VIC</td>\n",
       "      <td>Early Morning</td>\n",
       "      <td>Winter</td>\n",
       "      <td>48.32</td>\n",
       "    </tr>\n",
       "    <tr>\n",
       "      <th>...</th>\n",
       "      <td>...</td>\n",
       "      <td>...</td>\n",
       "      <td>...</td>\n",
       "      <td>...</td>\n",
       "      <td>...</td>\n",
       "      <td>...</td>\n",
       "      <td>...</td>\n",
       "      <td>...</td>\n",
       "      <td>...</td>\n",
       "    </tr>\n",
       "    <tr>\n",
       "      <th>94304</th>\n",
       "      <td>NMIS3</td>\n",
       "      <td>2018</td>\n",
       "      <td>9</td>\n",
       "      <td>30</td>\n",
       "      <td>19</td>\n",
       "      <td>NSW</td>\n",
       "      <td>Eve</td>\n",
       "      <td>Winter</td>\n",
       "      <td>27.68</td>\n",
       "    </tr>\n",
       "    <tr>\n",
       "      <th>94305</th>\n",
       "      <td>NMIS3</td>\n",
       "      <td>2018</td>\n",
       "      <td>9</td>\n",
       "      <td>30</td>\n",
       "      <td>20</td>\n",
       "      <td>NSW</td>\n",
       "      <td>Eve</td>\n",
       "      <td>Winter</td>\n",
       "      <td>27.36</td>\n",
       "    </tr>\n",
       "    <tr>\n",
       "      <th>94306</th>\n",
       "      <td>NMIS3</td>\n",
       "      <td>2018</td>\n",
       "      <td>9</td>\n",
       "      <td>30</td>\n",
       "      <td>21</td>\n",
       "      <td>NSW</td>\n",
       "      <td>Night</td>\n",
       "      <td>Winter</td>\n",
       "      <td>27.36</td>\n",
       "    </tr>\n",
       "    <tr>\n",
       "      <th>94307</th>\n",
       "      <td>NMIS3</td>\n",
       "      <td>2018</td>\n",
       "      <td>9</td>\n",
       "      <td>30</td>\n",
       "      <td>22</td>\n",
       "      <td>NSW</td>\n",
       "      <td>Night</td>\n",
       "      <td>Winter</td>\n",
       "      <td>28.00</td>\n",
       "    </tr>\n",
       "    <tr>\n",
       "      <th>94308</th>\n",
       "      <td>NMIS3</td>\n",
       "      <td>2018</td>\n",
       "      <td>9</td>\n",
       "      <td>30</td>\n",
       "      <td>23</td>\n",
       "      <td>NSW</td>\n",
       "      <td>Night</td>\n",
       "      <td>Winter</td>\n",
       "      <td>29.28</td>\n",
       "    </tr>\n",
       "  </tbody>\n",
       "</table>\n",
       "<p>94309 rows × 9 columns</p>\n",
       "</div>"
      ],
      "text/plain": [
       "         NMI  YEAR  MONTH  DAY  HOUR STATE        SESSION  SEASON  \\\n",
       "0      NMIA1  2017     10    1     0   VIC     Late Night  Winter   \n",
       "1      NMIA1  2017     10    1     1   VIC     Late Night  Winter   \n",
       "2      NMIA1  2017     10    1     3   VIC     Late Night  Winter   \n",
       "3      NMIA1  2017     10    1     4   VIC     Late Night  Winter   \n",
       "4      NMIA1  2017     10    1     5   VIC  Early Morning  Winter   \n",
       "...      ...   ...    ...  ...   ...   ...            ...     ...   \n",
       "94304  NMIS3  2018      9   30    19   NSW            Eve  Winter   \n",
       "94305  NMIS3  2018      9   30    20   NSW            Eve  Winter   \n",
       "94306  NMIS3  2018      9   30    21   NSW          Night  Winter   \n",
       "94307  NMIS3  2018      9   30    22   NSW          Night  Winter   \n",
       "94308  NMIS3  2018      9   30    23   NSW          Night  Winter   \n",
       "\n",
       "       TOTAL_CONSUMPTION  \n",
       "0                  31.20  \n",
       "1                  33.65  \n",
       "2                  33.98  \n",
       "3                  39.44  \n",
       "4                  48.32  \n",
       "...                  ...  \n",
       "94304              27.68  \n",
       "94305              27.36  \n",
       "94306              27.36  \n",
       "94307              28.00  \n",
       "94308              29.28  \n",
       "\n",
       "[94309 rows x 9 columns]"
      ]
     },
     "execution_count": 772,
     "metadata": {},
     "output_type": "execute_result"
    }
   ],
   "source": [
    "conn = dh.create_connection(database)\n",
    "report_df = pd.read_sql_query(sql_daily_hours_consumption, conn)\n",
    "report_df"
   ]
  },
  {
   "cell_type": "markdown",
   "metadata": {},
   "source": [
    "The report takes the form of a table, with the following columns:\n",
    "1. NMI - \n",
    "2. "
   ]
  },
  {
   "cell_type": "code",
   "execution_count": 774,
   "metadata": {},
   "outputs": [],
   "source": [
    "report_df.to_csv('../4.Analysis/NMI_Hourly_Consumption_Report.csv',index=False)"
   ]
  }
 ],
 "metadata": {
  "kernelspec": {
   "display_name": "Python 3",
   "language": "python",
   "name": "python3"
  },
  "language_info": {
   "codemirror_mode": {
    "name": "ipython",
    "version": 3
   },
   "file_extension": ".py",
   "mimetype": "text/x-python",
   "name": "python",
   "nbconvert_exporter": "python",
   "pygments_lexer": "ipython3",
   "version": "3.10.0"
  }
 },
 "nbformat": 4,
 "nbformat_minor": 4
}
