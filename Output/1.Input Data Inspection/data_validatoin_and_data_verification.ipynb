{
 "cells": [
  {
   "cell_type": "markdown",
   "metadata": {},
   "source": [
    "## Load Libs"
   ]
  },
  {
   "cell_type": "code",
   "execution_count": 101,
   "metadata": {},
   "outputs": [],
   "source": [
    "import pandas as pd\n",
    "import numpy as np\n",
    "import os\n",
    "import sys\n",
    "import csv\n",
    "import data_validation_helper as dvh\n",
    "import importlib\n",
    "importlib.reload(dvh)\n",
    "\n",
    "import matplotlib.pyplot as plt\n",
    "import seaborn as sns"
   ]
  },
  {
   "cell_type": "markdown",
   "metadata": {},
   "source": [
    "## Load Data"
   ]
  },
  {
   "cell_type": "markdown",
   "metadata": {},
   "source": [
    "Make sure you have the same file structure\n",
    "1. nmi_info.csv \n",
    "2. Consumption Data folder\n",
    "\n",
    "keep raw data without any processing, easy for future data validation"
   ]
  },
  {
   "cell_type": "code",
   "execution_count": 102,
   "metadata": {},
   "outputs": [],
   "source": [
    "nmi_path = 'Data\\\\nmi_info.csv'\n",
    "consumption_folder = 'Data\\\\Consumptiondata'"
   ]
  },
  {
   "cell_type": "code",
   "execution_count": 103,
   "metadata": {},
   "outputs": [],
   "source": [
    "file_pattern = \"*.csv\"\n",
    "consumption_dict = dvh.get_file_dict(consumption_folder, file_pattern)"
   ]
  },
  {
   "cell_type": "markdown",
   "metadata": {},
   "source": [
    "## Data Valiation"
   ]
  },
  {
   "cell_type": "markdown",
   "metadata": {},
   "source": [
    "### 1. Format Check"
   ]
  },
  {
   "cell_type": "code",
   "execution_count": 104,
   "metadata": {},
   "outputs": [
    {
     "name": "stdout",
     "output_type": "stream",
     "text": [
      "Data\\nmi_info.csv is valid csv file.\n"
     ]
    }
   ],
   "source": [
    "# Check 1.1 format check - nmi_info.csv\n",
    "# nmi_info file is valid csv file\n",
    "nmi_df_raw = dvh.load_csv(nmi_path, 'nmi_master')"
   ]
  },
  {
   "cell_type": "code",
   "execution_count": 105,
   "metadata": {},
   "outputs": [
    {
     "name": "stdout",
     "output_type": "stream",
     "text": [
      "Data\\Consumptiondata\\NMIA1.csv is valid csv file.\n",
      "Data\\Consumptiondata\\NMIA2.csv is valid csv file.\n",
      "Data\\Consumptiondata\\NMIA3.csv is valid csv file.\n",
      "Data\\Consumptiondata\\NMIG1.csv is valid csv file.\n",
      "Data\\Consumptiondata\\NMIG2.csv is valid csv file.\n",
      "Data\\Consumptiondata\\NMIK4.csv is valid csv file.\n",
      "Data\\Consumptiondata\\NMIM1.csv is valid csv file.\n",
      "Data\\Consumptiondata\\NMIR1.csv is valid csv file.\n",
      "Data\\Consumptiondata\\NMIR2.csv is valid csv file.\n",
      "Data\\Consumptiondata\\NMIS1.csv is valid csv file.\n",
      "Data\\Consumptiondata\\NMIS2.csv is valid csv file.\n",
      "Data\\Consumptiondata\\NMIS3.csv is valid csv file.\n"
     ]
    }
   ],
   "source": [
    "# Check 1.2 format check - Consumption Data Folder\n",
    "# Consumption Data Folder contains all files are valid csvs\n",
    "\n",
    "for name, path in consumption_dict.items():\n",
    "    dvh.load_csv(path,name)"
   ]
  },
  {
   "cell_type": "code",
   "execution_count": 106,
   "metadata": {},
   "outputs": [
    {
     "name": "stdout",
     "output_type": "stream",
     "text": [
      "Data\\Consumptiondata\\NMIA1.csv has correct csv header as ['AESTTime', 'Quantity', 'Unit'].\n",
      "Data\\Consumptiondata\\NMIA2.csv has correct csv header as ['AESTTime', 'Quantity', 'Unit'].\n",
      "Data\\Consumptiondata\\NMIA3.csv has correct csv header as ['AESTTime', 'Quantity', 'Unit'].\n",
      "Data\\Consumptiondata\\NMIG1.csv has correct csv header as ['AESTTime', 'Quantity', 'Unit'].\n",
      "Data\\Consumptiondata\\NMIG2.csv has correct csv header as ['AESTTime', 'Quantity', 'Unit'].\n",
      "Data\\Consumptiondata\\NMIK4.csv has correct csv header as ['AESTTime', 'Quantity', 'Unit'].\n",
      "Data\\Consumptiondata\\NMIM1.csv has correct csv header as ['AESTTime', 'Quantity', 'Unit'].\n",
      "Data\\Consumptiondata\\NMIR1.csv has correct csv header as ['AESTTime', 'Quantity', 'Unit'].\n",
      "Data\\Consumptiondata\\NMIR2.csv has correct csv header as ['AESTTime', 'Quantity', 'Unit'].\n",
      "Data\\Consumptiondata\\NMIS1.csv has correct csv header as ['AESTTime', 'Quantity', 'Unit'].\n",
      "Data\\Consumptiondata\\NMIS2.csv has correct csv header as ['AESTTime', 'Quantity', 'Unit'].\n",
      "Data\\Consumptiondata\\NMIS3.csv has correct csv header as ['AESTTime', 'Quantity', 'Unit'].\n"
     ]
    }
   ],
   "source": [
    "# Check 1.3 format check - Consumption Data Folder\n",
    "# Consumption Data Folder contains all files contains csv header\n",
    "\n",
    "expected_header = ['AESTTime', 'Quantity', 'Unit']\n",
    "for name, path in consumption_dict.items():\n",
    "    dvh.check_header(path, expected_header)"
   ]
  },
  {
   "cell_type": "markdown",
   "metadata": {},
   "source": [
    "### 2. Source Check"
   ]
  },
  {
   "cell_type": "code",
   "execution_count": 107,
   "metadata": {},
   "outputs": [
    {
     "name": "stdout",
     "output_type": "stream",
     "text": [
      "All items are csv\n"
     ]
    }
   ],
   "source": [
    "# Check 2.1 source check - Consumption Data Folder\n",
    "# Consumption Data Folder contains all files are csv as extension\n",
    "\n",
    "file_pattern = '.*\\.(?!csv)'\n",
    "consumption_files = dvh.get_file_list(consumption_folder, file_pattern)\n",
    "dvh.check_file_format(consumption_files,'csv')"
   ]
  },
  {
   "cell_type": "code",
   "execution_count": 108,
   "metadata": {},
   "outputs": [
    {
     "name": "stdout",
     "output_type": "stream",
     "text": [
      "All items are starts with NMI\n"
     ]
    }
   ],
   "source": [
    "# Check 2.2 source check - Consumption Data Folder\n",
    "# Consumption Data Folder contain all files with name start with NMI\n",
    "\n",
    "file_pattern = \"[!NMI]*\"\n",
    "consumption_names = dvh.get_name_list(consumption_folder, file_pattern)\n",
    "dvh.check_file_format(consumption_names,'starts with NMI')"
   ]
  },
  {
   "cell_type": "code",
   "execution_count": 109,
   "metadata": {},
   "outputs": [
    {
     "name": "stdout",
     "output_type": "stream",
     "text": [
      "All items are unique.\n"
     ]
    }
   ],
   "source": [
    "# Check 2.3 source check - Consumption Data Folder\n",
    "# No duplicate files does not contain duplicate files\n",
    "\n",
    "file_pattern = \"*\"\n",
    "consumption_names = dvh.get_name_list(consumption_folder, file_pattern)\n",
    "dvh.check_unique(consumption_names)"
   ]
  },
  {
   "cell_type": "markdown",
   "metadata": {},
   "source": [
    "### 3. Missing Data Check"
   ]
  },
  {
   "cell_type": "code",
   "execution_count": 110,
   "metadata": {},
   "outputs": [
    {
     "name": "stdout",
     "output_type": "stream",
     "text": [
      "Each nmi in ['NMIM2'] is missing from nmi master file but has consumption data.\n"
     ]
    }
   ],
   "source": [
    "# Check 3.1 missing data check - nmi_info.csv\n",
    "# nmi_info file contains all nmi has consumption data\n",
    "\n",
    "# copy raw data to do data check\n",
    "nmi_df = nmi_df_raw.copy()\n",
    "file_pattern = \"*\"\n",
    "consumption_names = dvh.get_name_list(consumption_folder, file_pattern)\n",
    "dvh.check_missing_nmi(nmi_df['Nmi'].to_list(), consumption_names)"
   ]
  },
  {
   "cell_type": "code",
   "execution_count": 111,
   "metadata": {},
   "outputs": [
    {
     "name": "stdout",
     "output_type": "stream",
     "text": [
      "Each nmi in ['NMIK4'] in nmi master file does not have consumption data.\n"
     ]
    }
   ],
   "source": [
    "# Check 3.2 missing data check - Consumption Data Folder\n",
    "# NMI has consumption data is in nmi master file\n",
    "\n",
    "# copy raw data to do data check\n",
    "nmi_df = nmi_df_raw.copy()\n",
    "file_pattern = \"*\"\n",
    "consumption_names = dvh.get_name_list(consumption_folder, file_pattern)\n",
    "dvh.check_missing_consumption(consumption_names,nmi_df['Nmi'].to_list())"
   ]
  },
  {
   "cell_type": "code",
   "execution_count": 112,
   "metadata": {},
   "outputs": [
    {
     "name": "stdout",
     "output_type": "stream",
     "text": [
      "nmi_master does not have missing data.\n"
     ]
    }
   ],
   "source": [
    "# Check 3.3 missing data check - nmi_info.csv\n",
    "# nmi_info file do not have missing data\n",
    "\n",
    "# copy raw data to do data check\n",
    "nmi_df = nmi_df_raw.copy()\n",
    "dvh.check_missing_data(nmi_df)"
   ]
  },
  {
   "cell_type": "code",
   "execution_count": 113,
   "metadata": {},
   "outputs": [
    {
     "name": "stdout",
     "output_type": "stream",
     "text": [
      "NMIA1 does not have missing data.\n",
      "NMIA2 does not have missing data.\n",
      "NMIA3 has missing data.\n",
      "NMIG1 does not have missing data.\n",
      "NMIG2 does not have missing data.\n",
      "NMIK4 does not have missing data.\n",
      "NMIM1 does not have missing data.\n",
      "NMIR1 does not have missing data.\n",
      "NMIR2 has missing data.\n",
      "NMIS1 does not have missing data.\n",
      "NMIS2 does not have missing data.\n",
      "NMIS3 has missing data.\n"
     ]
    }
   ],
   "source": [
    "# Check 3.4 missing data check - Consumption Data Folder\n",
    "# Each consumpton data does not have missing data\n",
    "\n",
    "for name, path in consumption_dict.items():\n",
    "    file_df = pd.read_csv(path)\n",
    "    file_df.columns.name = name\n",
    "    dvh.check_missing_data(file_df)"
   ]
  },
  {
   "cell_type": "markdown",
   "metadata": {},
   "source": [
    "### 4. Schema Check"
   ]
  },
  {
   "cell_type": "code",
   "execution_count": 114,
   "metadata": {},
   "outputs": [
    {
     "name": "stdout",
     "output_type": "stream",
     "text": [
      "nmi_master shows corrent data format as ['Nmi', 'State', 'Interval'].\n"
     ]
    }
   ],
   "source": [
    "# Check 4.1 schema check - nmi_info.csv\n",
    "# nmi_info file contains nmi, state and interval as 3 columns\n",
    "\n",
    "# copy raw data to do data check\n",
    "nmi_df = nmi_df_raw.copy()\n",
    "dvh.check_columns(nmi_df,['Nmi', 'State', 'Interval'])"
   ]
  },
  {
   "cell_type": "code",
   "execution_count": 115,
   "metadata": {},
   "outputs": [
    {
     "name": "stdout",
     "output_type": "stream",
     "text": [
      "The Nmi column of nmi_master has correct O type\n"
     ]
    }
   ],
   "source": [
    "# Check 4.2 schema check - nmi_info.csv\n",
    "# nmi_info file contains nmi as string\n",
    "\n",
    "# copy raw data to do data check\n",
    "nmi_df = nmi_df_raw.copy()\n",
    "dvh.check_column_type(nmi_df,'Nmi','O')"
   ]
  },
  {
   "cell_type": "code",
   "execution_count": 116,
   "metadata": {},
   "outputs": [
    {
     "name": "stdout",
     "output_type": "stream",
     "text": [
      "The State column of nmi_master has correct O type\n"
     ]
    }
   ],
   "source": [
    "# Check 4.3 schema check - nmi_info.csv\n",
    "# nmi_info file contains state as string\n",
    "\n",
    "# copy raw data to do data check\n",
    "nmi_df = nmi_df_raw.copy()\n",
    "dvh.check_column_type(nmi_df,'State','O')"
   ]
  },
  {
   "cell_type": "code",
   "execution_count": 117,
   "metadata": {},
   "outputs": [
    {
     "name": "stdout",
     "output_type": "stream",
     "text": [
      "The Interval column of nmi_master has incorrect float64 type, should be int64 type.\n"
     ]
    }
   ],
   "source": [
    "# Check 4.4 schema check - nmi_info.csv\n",
    "# nmi_info file contains interval as integer\n",
    "\n",
    "# copy raw data to do data check\n",
    "nmi_df = nmi_df_raw.copy()\n",
    "dvh.check_column_type(nmi_df,'Interval','int64')"
   ]
  },
  {
   "cell_type": "code",
   "execution_count": 118,
   "metadata": {},
   "outputs": [
    {
     "name": "stdout",
     "output_type": "stream",
     "text": [
      "NMIA1 shows corrent data format as ['AESTTime', 'Quantity', 'Unit'].\n",
      "NMIA2 shows corrent data format as ['AESTTime', 'Quantity', 'Unit'].\n",
      "NMIA3 shows corrent data format as ['AESTTime', 'Quantity', 'Unit'].\n",
      "NMIG1 shows corrent data format as ['AESTTime', 'Quantity', 'Unit'].\n",
      "NMIG2 shows corrent data format as ['AESTTime', 'Quantity', 'Unit'].\n",
      "NMIK4 shows corrent data format as ['AESTTime', 'Quantity', 'Unit'].\n",
      "NMIM1 shows corrent data format as ['AESTTime', 'Quantity', 'Unit'].\n",
      "NMIR1 shows corrent data format as ['AESTTime', 'Quantity', 'Unit'].\n",
      "NMIR2 shows corrent data format as ['AESTTime', 'Quantity', 'Unit'].\n",
      "NMIS1 shows corrent data format as ['AESTTime', 'Quantity', 'Unit'].\n",
      "NMIS2 shows corrent data format as ['AESTTime', 'Quantity', 'Unit'].\n",
      "NMIS3 shows corrent data format as ['AESTTime', 'Quantity', 'Unit'].\n"
     ]
    }
   ],
   "source": [
    "# Check 4.4 schema check - Consumption Data Folder\n",
    "# Consumption_data contains AESTTime, Quantity and Unit as 3 columns\n",
    "\n",
    "for name, path in consumption_dict.items():\n",
    "    file_df = pd.read_csv(path)\n",
    "    file_df.columns.name = name\n",
    "    dvh.check_columns(file_df,['AESTTime', 'Quantity', 'Unit'])"
   ]
  },
  {
   "cell_type": "code",
   "execution_count": 119,
   "metadata": {},
   "outputs": [
    {
     "name": "stdout",
     "output_type": "stream",
     "text": [
      "The AESTTime column of NMIA1 has incorrect object type, should be datetime type.\n",
      "The AESTTime column of NMIA2 has incorrect object type, should be datetime type.\n",
      "The AESTTime column of NMIA3 has incorrect object type, should be datetime type.\n",
      "The AESTTime column of NMIG1 has incorrect object type, should be datetime type.\n",
      "The AESTTime column of NMIG2 has incorrect object type, should be datetime type.\n",
      "The AESTTime column of NMIK4 has incorrect object type, should be datetime type.\n",
      "The AESTTime column of NMIM1 has incorrect object type, should be datetime type.\n",
      "The AESTTime column of NMIR1 has incorrect object type, should be datetime type.\n",
      "The AESTTime column of NMIR2 has incorrect object type, should be datetime type.\n",
      "The AESTTime column of NMIS1 has incorrect object type, should be datetime type.\n",
      "The AESTTime column of NMIS2 has incorrect object type, should be datetime type.\n",
      "The AESTTime column of NMIS3 has incorrect object type, should be datetime type.\n"
     ]
    }
   ],
   "source": [
    "# Check 4.5 schema check - Consumption Data Folder\n",
    "# Consumption_data contains AESTTime as datatime\n",
    "\n",
    "for name, path in consumption_dict.items():\n",
    "    file_df = pd.read_csv(path)\n",
    "    file_df.columns.name = name\n",
    "    dvh.check_column_type(file_df,'AESTTime','datetime')"
   ]
  },
  {
   "cell_type": "code",
   "execution_count": 120,
   "metadata": {},
   "outputs": [
    {
     "name": "stdout",
     "output_type": "stream",
     "text": [
      "The Quantity column of NMIA1 has correct float64 type\n",
      "The Quantity column of NMIA2 has correct float64 type\n",
      "The Quantity column of NMIA3 has correct float64 type\n",
      "The Quantity column of NMIG1 has correct float64 type\n",
      "The Quantity column of NMIG2 has correct float64 type\n",
      "The Quantity column of NMIK4 has correct float64 type\n",
      "The Quantity column of NMIM1 has correct float64 type\n",
      "The Quantity column of NMIR1 has correct float64 type\n",
      "The Quantity column of NMIR2 has correct float64 type\n",
      "The Quantity column of NMIS1 has correct float64 type\n",
      "The Quantity column of NMIS2 has correct float64 type\n",
      "The Quantity column of NMIS3 has correct float64 type\n"
     ]
    }
   ],
   "source": [
    "# Check 4.6 schema check - Consumption Data Folder\n",
    "# Consumption_data contains Quantity as float\n",
    "\n",
    "for name, path in consumption_dict.items():\n",
    "    file_df = pd.read_csv(path)\n",
    "    file_df.columns.name = name\n",
    "    dvh.check_column_type(file_df,'Quantity','float64')"
   ]
  },
  {
   "cell_type": "code",
   "execution_count": 121,
   "metadata": {},
   "outputs": [
    {
     "name": "stdout",
     "output_type": "stream",
     "text": [
      "The Unit column of NMIA1 has correct O type\n",
      "The Unit column of NMIA2 has correct O type\n",
      "The Unit column of NMIA3 has correct O type\n",
      "The Unit column of NMIG1 has correct O type\n",
      "The Unit column of NMIG2 has correct O type\n",
      "The Unit column of NMIK4 has correct O type\n",
      "The Unit column of NMIM1 has correct O type\n",
      "The Unit column of NMIR1 has correct O type\n",
      "The Unit column of NMIR2 has correct O type\n",
      "The Unit column of NMIS1 has correct O type\n",
      "The Unit column of NMIS2 has correct O type\n",
      "The Unit column of NMIS3 has correct O type\n"
     ]
    }
   ],
   "source": [
    "# Check 4.7 schema check - Consumption Data Folder\n",
    "# Consumption_data contains Unit as string\n",
    "\n",
    "for name, path in consumption_dict.items():\n",
    "    file_df = pd.read_csv(path)\n",
    "    file_df.columns.name = name\n",
    "    dvh.check_column_type(file_df,'Unit','O')"
   ]
  },
  {
   "cell_type": "markdown",
   "metadata": {},
   "source": [
    "## Data Vertification"
   ]
  },
  {
   "cell_type": "markdown",
   "metadata": {},
   "source": [
    "### 5. Duplicate Check"
   ]
  },
  {
   "cell_type": "code",
   "execution_count": 122,
   "metadata": {},
   "outputs": [
    {
     "name": "stdout",
     "output_type": "stream",
     "text": [
      "nmi_master does not have duplicate rows\n"
     ]
    }
   ],
   "source": [
    "# Check 5.1 Duplicate Check - nmi_info.csv\n",
    "# nmi_info file do not contain rows\n",
    "\n",
    "# copy raw data to do data check\n",
    "nmi_df = nmi_df_raw.copy()\n",
    "dvh.check_duplicate_rows(nmi_df)"
   ]
  },
  {
   "cell_type": "code",
   "execution_count": 123,
   "metadata": {},
   "outputs": [
    {
     "name": "stdout",
     "output_type": "stream",
     "text": [
      "NMIA1 does not have duplicate rows\n",
      "NMIA2 does not have duplicate rows\n",
      "NMIA3 does not have duplicate rows\n",
      "NMIG1 does not have duplicate rows\n",
      "NMIG2 does not have duplicate rows\n",
      "NMIK4 does not have duplicate rows\n",
      "NMIM1 does not have duplicate rows\n",
      "NMIR1 does not have duplicate rows\n",
      "NMIR2 have duplicate rows\n",
      "NMIS1 does not have duplicate rows\n",
      "NMIS2 does not have duplicate rows\n",
      "NMIS3 does not have duplicate rows\n"
     ]
    }
   ],
   "source": [
    "# Check 5.2 Duplicate Check - Consumption Data Folder\n",
    "#  Consumption_data does not contain duplicate rows\n",
    "for name, path in consumption_dict.items():\n",
    "    file_df = pd.read_csv(path,parse_dates=[0])\n",
    "    file_df.columns.name = name\n",
    "    dvh.check_duplicate_rows(file_df)"
   ]
  },
  {
   "cell_type": "markdown",
   "metadata": {},
   "source": [
    "### 6. Value Check"
   ]
  },
  {
   "cell_type": "code",
   "execution_count": 124,
   "metadata": {},
   "outputs": [
    {
     "name": "stdout",
     "output_type": "stream",
     "text": [
      "All items are starts with NMI\n"
     ]
    }
   ],
   "source": [
    "# Check 6.1 Value Check - nmi_info.csv\n",
    "# nmi_info file contains nmi starts as NMI\n",
    "\n",
    "# copy raw data to do data check\n",
    "nmi_df = nmi_df_raw.copy()\n",
    "input_list = nmi_df[~nmi_df['Nmi'].str.startswith('NMI')]['Nmi'].to_list()\n",
    "dvh.check_file_format(input_list,'starts with NMI')"
   ]
  },
  {
   "cell_type": "code",
   "execution_count": 125,
   "metadata": {},
   "outputs": [
    {
     "name": "stdout",
     "output_type": "stream",
     "text": [
      "The State in nmi_master has correct value from ['NSW', 'NT', 'QLD', 'SA', 'VIC', 'TAS', 'WA']\n"
     ]
    }
   ],
   "source": [
    "# Check 6.2 Value Check - nmi_info.csv\n",
    "# nmi_info file contains correct state code as NSW, NT, QLD, SA, VIC, TAS, WA\n",
    "\n",
    "# copy raw data to do data check\n",
    "nmi_df = nmi_df_raw.copy()\n",
    "expected_list = ['NSW','NT','QLD','SA','VIC','TAS','WA']\n",
    "dvh.check_value(nmi_df,\"State\",expected_list)"
   ]
  },
  {
   "cell_type": "code",
   "execution_count": 126,
   "metadata": {},
   "outputs": [
    {
     "name": "stdout",
     "output_type": "stream",
     "text": [
      "The Interval in nmi_master has correct value from [15, 30]\n"
     ]
    }
   ],
   "source": [
    "# Check 6.3 Value Check - nmi_info.csv\n",
    "# nmi_info file contains correct interval values as 15,30\n",
    "\n",
    "# copy raw data to do data check\n",
    "nmi_df = nmi_df_raw.copy()\n",
    "expected_list = [15,30]\n",
    "dvh.check_value(nmi_df,\"Interval\",expected_list)"
   ]
  },
  {
   "cell_type": "code",
   "execution_count": 127,
   "metadata": {},
   "outputs": [
    {
     "name": "stdout",
     "output_type": "stream",
     "text": [
      "The Unit in NMIA1 has incorrect value as ['Mwh', 'kWh'] not from ['WH', 'KWH', 'MWH']\n",
      "The Unit in NMIA2 has incorrect value as ['kWh'] not from ['WH', 'KWH', 'MWH']\n",
      "The Unit in NMIA3 has incorrect value as ['kWh'] not from ['WH', 'KWH', 'MWH']\n",
      "The Unit in NMIG1 has incorrect value as ['kWh'] not from ['WH', 'KWH', 'MWH']\n",
      "The Unit in NMIG2 has incorrect value as ['kWh'] not from ['WH', 'KWH', 'MWH']\n",
      "The Unit in NMIK4 has incorrect value as ['kWh'] not from ['WH', 'KWH', 'MWH']\n",
      "The Unit in NMIM1 has incorrect value as ['kWh'] not from ['WH', 'KWH', 'MWH']\n",
      "The Unit in NMIR1 has incorrect value as ['kWh'] not from ['WH', 'KWH', 'MWH']\n",
      "The Unit in NMIR2 has incorrect value as ['kWh'] not from ['WH', 'KWH', 'MWH']\n",
      "The Unit in NMIS1 has incorrect value as ['kWh'] not from ['WH', 'KWH', 'MWH']\n",
      "The Unit in NMIS2 has incorrect value as ['kWh'] not from ['WH', 'KWH', 'MWH']\n",
      "The Unit in NMIS3 has incorrect value as ['kWh'] not from ['WH', 'KWH', 'MWH']\n"
     ]
    }
   ],
   "source": [
    "# Check 6.4 Value Check - Consumption Data Folder\n",
    "# nmi_info file contains correct unit measurement\n",
    "\n",
    "for name, path in consumption_dict.items():\n",
    "    file_df = pd.read_csv(path,parse_dates=[0])\n",
    "    file_df.columns.name = name\n",
    "    expected_list = ['WH','KWH','MWH']\n",
    "    dvh.check_value(file_df,\"Unit\",expected_list)"
   ]
  },
  {
   "cell_type": "markdown",
   "metadata": {},
   "source": [
    "### 7. Consistent Check"
   ]
  },
  {
   "cell_type": "code",
   "execution_count": 128,
   "metadata": {},
   "outputs": [
    {
     "name": "stdout",
     "output_type": "stream",
     "text": [
      "NMIA1 has consistent data with interval 15 minutes defined in the master file.\n",
      "NMIA2 has consistent data with interval 15 minutes defined in the master file.\n",
      "NMIA3 has inconsistent data with interval 30 minutes defined in the master file.\n",
      "NMIG1 has consistent data with interval 30 minutes defined in the master file.\n",
      "NMIG2 has inconsistent data with interval 30 minutes defined in the master file.\n",
      "NMIM1 has consistent data with interval 30 minutes defined in the master file.\n",
      "NMIR1 has consistent data with interval 30 minutes defined in the master file.\n",
      "NMIS1 has consistent data with interval 30 minutes defined in the master file.\n",
      "NMIS2 has consistent data with interval 30 minutes defined in the master file.\n",
      "NMIS3 has inconsistent data with interval 30 minutes defined in the master file.\n"
     ]
    }
   ],
   "source": [
    "# Check 7.1 Consistent Check - nmi_info.csv\n",
    "# Interval is consistent with AESTTime for consumption data\n",
    "\n",
    "for name, path in consumption_dict.items():\n",
    "    file_df = pd.read_csv(path,parse_dates=[0])\n",
    "    if name in nmi_df['Nmi'].to_list() and name != 'NMIR2':\n",
    "        interval = int(nmi_df[nmi_df['Nmi'] == name]['Interval'])\n",
    "        freq=f\"{interval}Min\"\n",
    "        file_df = file_df.set_index('AESTTime').asfreq(freq)\n",
    "        file_missing_dt = len(file_df[file_df['Quantity'].isnull()])\n",
    "        if file_missing_dt == 0:\n",
    "            print(f\"{name} has consistent data with interval {interval} minutes defined in the master file.\")\n",
    "        else:\n",
    "            print(f\"{name} has inconsistent data with interval {interval} minutes defined in the master file.\")"
   ]
  },
  {
   "cell_type": "code",
   "execution_count": 129,
   "metadata": {},
   "outputs": [
    {
     "name": "stdout",
     "output_type": "stream",
     "text": [
      "The Unit in NMIA1 has inconsistent values from ['Mwh', 'kWh']\n",
      "The Unit in NMIA2 has consistent values from ['kWh']\n",
      "The Unit in NMIA3 has consistent values from ['kWh']\n",
      "The Unit in NMIG1 has consistent values from ['kWh']\n",
      "The Unit in NMIG2 has consistent values from ['kWh']\n",
      "The Unit in NMIK4 has consistent values from ['kWh']\n",
      "The Unit in NMIM1 has consistent values from ['kWh']\n",
      "The Unit in NMIR1 has consistent values from ['kWh']\n",
      "The Unit in NMIR2 has consistent values from ['kWh']\n",
      "The Unit in NMIS1 has consistent values from ['kWh']\n",
      "The Unit in NMIS2 has consistent values from ['kWh']\n",
      "The Unit in NMIS3 has consistent values from ['kWh']\n"
     ]
    }
   ],
   "source": [
    "# Check 7.2 Consistent Check - Consumption Data Folder\n",
    "# Unit is consistent with single measurement with WH, KWH or MWH\n",
    "\n",
    "for name, path in consumption_dict.items():\n",
    "    file_df = pd.read_csv(path,parse_dates=[0])\n",
    "    file_df.columns.name = name\n",
    "    dvh.check_consistent(file_df, \"Unit\")"
   ]
  },
  {
   "cell_type": "code",
   "execution_count": 130,
   "metadata": {},
   "outputs": [
    {
     "name": "stdout",
     "output_type": "stream",
     "text": [
      "NMIA1 shows consistent inverval as 15T.\n",
      "NMIA2 shows consistent inverval as 15T.\n",
      "NMIA3 shows consistent inverval as 30T.\n",
      "NMIG1 shows consistent inverval as 30T.\n",
      "NMIG2 shows inconsistent inverval\n",
      "NMIK4 shows consistent inverval as 30T.\n",
      "NMIM1 shows consistent inverval as 30T.\n",
      "NMIR1 shows consistent inverval as 30T.\n",
      "NMIR2 shows consistent inverval as 30T.\n",
      "NMIS1 shows consistent inverval as 30T.\n",
      "NMIS2 shows consistent inverval as 30T.\n",
      "NMIS3 shows consistent inverval as 30T.\n"
     ]
    }
   ],
   "source": [
    "# Check 7.3 Consistent Check - Consumption Data Folder\n",
    "# AESTTime has consistent interval data\n",
    "\n",
    "for name, path in consumption_dict.items():\n",
    "    file_df = pd.read_csv(path,parse_dates=[0])\n",
    "    file_df.columns.name = name\n",
    "    dvh.check_datetime_freq(file_df, 'AESTTime')"
   ]
  },
  {
   "cell_type": "markdown",
   "metadata": {},
   "source": [
    "### 8. Outlier Check"
   ]
  },
  {
   "cell_type": "code",
   "execution_count": 131,
   "metadata": {},
   "outputs": [
    {
     "data": {
      "image/png": "[encoded data removed]",
      "text/plain": [
       "<Figure size 432x288 with 1 Axes>"
      ]
     },
     "metadata": {
      "needs_background": "light"
     },
     "output_type": "display_data"
    },
    {
     "data": {
      "image/png": "[encoded data removed]",
      "text/plain": [
       "<Figure size 432x288 with 1 Axes>"
      ]
     },
     "metadata": {
      "needs_background": "light"
     },
     "output_type": "display_data"
    },
    {
     "data": {
      "image/png": "[encoded data removed]",
      "text/plain": [
       "<Figure size 432x288 with 1 Axes>"
      ]
     },
     "metadata": {
      "needs_background": "light"
     },
     "output_type": "display_data"
    },
    {
     "data": {
      "image/png": "[encoded data removed]",
      "text/plain": [
       "<Figure size 432x288 with 1 Axes>"
      ]
     },
     "metadata": {
      "needs_background": "light"
     },
     "output_type": "display_data"
    },
    {
     "data": {
      "image/png": "[encoded data removed]",
      "text/plain": [
       "<Figure size 432x288 with 1 Axes>"
      ]
     },
     "metadata": {
      "needs_background": "light"
     },
     "output_type": "display_data"
    },
    {
     "data": {
      "image/png": "[encoded data removed]",
      "text/plain": [
       "<Figure size 432x288 with 1 Axes>"
      ]
     },
     "metadata": {
      "needs_background": "light"
     },
     "output_type": "display_data"
    },
    {
     "data": {
      "image/png": "[encoded data removed]",
      "text/plain": [
       "<Figure size 432x288 with 1 Axes>"
      ]
     },
     "metadata": {
      "needs_background": "light"
     },
     "output_type": "display_data"
    },
    {
     "data": {
      "image/png": "[encoded data removed]",
      "text/plain": [
       "<Figure size 432x288 with 1 Axes>"
      ]
     },
     "metadata": {
      "needs_background": "light"
     },
     "output_type": "display_data"
    },
    {
     "data": {
      "image/png": "[encoded data removed]",
      "text/plain": [
       "<Figure size 432x288 with 1 Axes>"
      ]
     },
     "metadata": {
      "needs_background": "light"
     },
     "output_type": "display_data"
    },
    {
     "data": {
      "image/png": "[encoded data removed]",
      "text/plain": [
       "<Figure size 432x288 with 1 Axes>"
      ]
     },
     "metadata": {
      "needs_background": "light"
     },
     "output_type": "display_data"
    },
    {
     "data": {
      "image/png": "[encoded data removed]",
      "text/plain": [
       "<Figure size 432x288 with 1 Axes>"
      ]
     },
     "metadata": {
      "needs_background": "light"
     },
     "output_type": "display_data"
    },
    {
     "data": {
      "image/png": "[encoded data removed]",
      "text/plain": [
       "<Figure size 432x288 with 1 Axes>"
      ]
     },
     "metadata": {
      "needs_background": "light"
     },
     "output_type": "display_data"
    }
   ],
   "source": [
    "# Check 8.1 Outlier Check - Consumption Data Folder\n",
    "# Quality is reasonable\n",
    "\n",
    "for name, path in consumption_dict.items():\n",
    "    file_df = pd.read_csv(path,parse_dates=[0])\n",
    "    file_df.columns.name = name\n",
    "    file_df['Quantity'] = np.where(file_df['Unit'] == 'Mwh', file_df['Quantity'] * 1000.00, file_df['Quantity'])\n",
    "    sns.boxplot(x = file_df['Quantity'])\n",
    "    plt.show()"
   ]
  },
  {
   "cell_type": "code",
   "execution_count": 132,
   "metadata": {},
   "outputs": [
    {
     "name": "stdout",
     "output_type": "stream",
     "text": [
      "NMIA1 does not have outliers.\n",
      "NMIA2 does not have outliers.\n",
      "NMIA3 does not have outliers.\n",
      "NMIG1 has outliers as 165.\n",
      "NMIG2 does not have outliers.\n",
      "NMIK4 does not have outliers.\n",
      "NMIM1 has outliers as 1253.\n",
      "NMIR1 has outliers as 48.\n",
      "NMIR2 has outliers as 432.\n",
      "NMIS1 has outliers as 2777.\n",
      "NMIS2 has outliers as 2604.\n",
      "NMIS3 has outliers as 1904.\n"
     ]
    }
   ],
   "source": [
    "# Check 8.1 Outlier Check - Consumption Data Folder\n",
    "# Quality is reasonable\n",
    "\n",
    "for name, path in consumption_dict.items():\n",
    "    file_df = pd.read_csv(path,parse_dates=[0])\n",
    "    file_df.columns.name = name\n",
    "    file_df['Quantity'] = np.where(file_df['Unit'] == 'Mwh', file_df['Quantity'] * 1000.00, file_df['Quantity'])\n",
    "    dvh.check_outlier(file_df, 'Quantity')"
   ]
  }
 ],
 "metadata": {
  "kernelspec": {
   "display_name": "Python 3",
   "language": "python",
   "name": "python3"
  },
  "language_info": {
   "codemirror_mode": {
    "name": "ipython",
    "version": 3
   },
   "file_extension": ".py",
   "mimetype": "text/x-python",
   "name": "python",
   "nbconvert_exporter": "python",
   "pygments_lexer": "ipython3",
   "version": "3.10.0"
  }
 },
 "nbformat": 4,
 "nbformat_minor": 4
}
